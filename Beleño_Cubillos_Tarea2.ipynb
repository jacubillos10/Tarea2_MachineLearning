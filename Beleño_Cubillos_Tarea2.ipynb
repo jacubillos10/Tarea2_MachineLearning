{
 "cells": [
  {
   "cell_type": "code",
   "execution_count": 1,
   "metadata": {},
   "outputs": [
    {
     "name": "stderr",
     "output_type": "stream",
     "text": [
      "2023-10-08 18:06:40.720892: I tensorflow/core/platform/cpu_feature_guard.cc:182] This TensorFlow binary is optimized to use available CPU instructions in performance-critical operations.\n",
      "To enable the following instructions: AVX2 FMA, in other operations, rebuild TensorFlow with the appropriate compiler flags.\n"
     ]
    }
   ],
   "source": [
    "import numpy as np\n",
    "import pandas as pd\n",
    "import sklearn\n",
    "from sklearn.model_selection import train_test_split\n",
    "import tensorflow as tf\n",
    "import keras"
   ]
  },
  {
   "cell_type": "code",
   "execution_count": 2,
   "metadata": {},
   "outputs": [],
   "source": [
    "\"\"\"\n",
    "En esa celda se importan los datos desde el archivo genre_dataset.txt. Las columnas track_id, artist_name y title se ignoran (no se importan) y se quitan todas las filas cuyo género \n",
    "no sea dance and electronica', 'jazz and blues', 'soul and reggae', 'punk' o 'metal'. Los datos con solo los géneros deseados se guardan en DatosTarea. Finalmente se asigna un número \n",
    "a cada género y se cambia el valor del género por su respectivo número en la columna de 'genre. Por ejemplo, todos los 'dance and electronica' se cambian por un 0 y todos los 'punk' \n",
    "se cambian por un 3.\n",
    "\"\"\"\n",
    "DatosFull = pd.read_csv('genre_dataset.txt', skiprows = 9, usecols = lambda x: x not in ('track_id', 'artist_name', 'title'))\n",
    "if '%genre' in DatosFull.keys():\n",
    "    columna_genero = DatosFull.pop('%genre')\n",
    "    DatosFull.insert(0, 'genre', columna_genero)\n",
    "#fin if \n",
    "#print(set(DatosFull['genre']))\n",
    "#{'punk', 'hip-hop', 'soul and reggae', 'metal', 'folk', 'pop', 'classic pop and rock', 'classical', 'jazz and blues', 'dance and electronica'}\n",
    "generos_a_estudiar = {'dance and electronica': 0, 'jazz and blues': 1, 'soul and reggae': 2, 'punk': 3, 'metal': 4}\n",
    "DatosTarea = DatosFull.loc[DatosFull['genre'].isin(tuple(generos_a_estudiar.keys()))]\n",
    "indices_genero = np.array(map(lambda x: generos_a_estudiar[x], DatosTarea['genre']))\n",
    "del DatosTarea['genre']\n",
    "DatosTarea.insert(0, 'genre', indices_genero)"
   ]
  },
  {
   "cell_type": "code",
   "execution_count": 3,
   "metadata": {},
   "outputs": [],
   "source": [
    "\"\"\"\n",
    "En esta celda dividimos los datos en entrenamiento, validación y test\n",
    "\"\"\"\n",
    "#NO olvide borrar el random state\n",
    "features = list(DatosTarea.keys())\n",
    "features.remove('genre')\n",
    "X_train, X_temp, y_train, y_temp = train_test_split(DatosTarea[features], DatosTarea['genre'], test_size=0.3)\n",
    "X_val, X_test, y_val, y_test = train_test_split(X_temp, y_temp, test_size=0.5)"
   ]
  },
  {
   "cell_type": "code",
   "execution_count": 4,
   "metadata": {},
   "outputs": [],
   "source": [
    "\n",
    "\"\"\"\n",
    "Aquí secuestramos la función para normalizar que habíamos hecho en la tarea 1. Y luego la usamos para normalizar los datos de la tarea 2.\n",
    "Los datos de validación y test se normalizaron con la media y la desviación de los datos de entrenamiento\n",
    "\"\"\"\n",
    "parametros_train = dict(map(lambda x: (x, {'media': np.mean(X_train[x]), 'desviacion': np.std(X_train[x])}), X_train.keys()))\n",
    "def normalizar(dataSet, features, parametros = []):\n",
    "    \"\"\"\n",
    "    Esta función resta la media y luego divide entre la desviación estandar de cada dato en cada columna. Si se le especifica la media y la desviación en los parámetros \n",
    "    Usa esa media y desviación dada, de lo contrario, calcula la media y la desviación de cada columna especificada en \"features\"\n",
    "    @input: dataSet <pd.DataFrame>: Tabla de datos a la que se le va a dar normalización a la columans dadas\n",
    "    @input: features <list>: lista de \"features\" o columnas que se van a normalizar\n",
    "    @input: (opcional) parametros <dict>: En caso de que se quiera normalizar con una media y una desviación dada se especifican en un diccionario así: {'mileage':{'media': 2.9, 'desviacion': 7}}\n",
    "    \"\"\"\n",
    "    if len(parametros) == 0:\n",
    "        for feature in features:\n",
    "            media = np.mean(dataSet[feature])\n",
    "            desviacion = np.std(dataSet[feature])\n",
    "            if desviacion != 0:\n",
    "                dataSet[feature] = (dataSet[feature] - media)/desviacion\n",
    "            #fin if \n",
    "        #fin for\n",
    "    #fin if \n",
    "    else:\n",
    "        for feature in features:\n",
    "            media = parametros[feature]['media']\n",
    "            desviacion = parametros[feature]['desviacion']\n",
    "            if desviacion != 0:\n",
    "                dataSet[feature] = (dataSet[feature] - media)/desviacion\n",
    "            #fin if \n",
    "        #fin for\n",
    "#fin función\n",
    "normalizar(X_train, features)\n",
    "normalizar(X_val, features, parametros_train)\n",
    "normalizar(X_test, features, parametros_train)"
   ]
  },
  {
   "cell_type": "code",
   "execution_count": 5,
   "metadata": {},
   "outputs": [],
   "source": [
    "def devolver_vector(y_i, tamaño):\n",
    "    \"\"\"\n",
    "    Esta función recibe un número entero positivo y_i y otro entero positivo indicando el tamaño del vector a devolver. Este devuelve un vector de ceros excepto en la posición y_i, \n",
    "    donde devuelve 1. Por ejemplo, si se llama la función así: devolver_vector(2,5) esta devolverá: [0, 0, 1, 0, 0]\n",
    "    @input y_i <int>: Posición a la que se le desea colocar 1 en el vector a devolver\n",
    "    @input tamaño <int>: Tamaño del vector a devolver\n",
    "    @output <np.array>: Vector de todos ceros, excepto con un 1 en la posición especificada en y_i\n",
    "    \"\"\"\n",
    "    vec = np.zeros(tamaño)\n",
    "    vec[y_i] = 1\n",
    "    return vec\n",
    "#fin funcion\n",
    "\n",
    "def prcesar_datos_en_y(y):\n",
    "    \"\"\"\n",
    "    Esta función recibe un vector de respuesta y (los cuales son el género de cada canción) y devuelve una matriz de n_generos*n_datos en donde cada fila es un dato. Por ejemplo, \n",
    "    si se usa con tres datos, de los cuales uno es jazz, otro es punk y otro es metal, es decir, y = [1, 3, 4], el valor de procesar_datos_en_y([1,3,4]) dará como resultado una matriz así: \n",
    "    [[0,1,0,0,0], [0,0,0,1,0],[0,0,0,0,1]]\n",
    "    @input y <lista o np.array o pd.DataFrame>: Vector que indica el género musical en los datos\n",
    "    @output y_proc <np.array>: Matriz de ceros y unos que contiene la misma información\n",
    "    \"\"\"\n",
    "    tamaño_vec = max(y) + 1\n",
    "    y_proc = list(map(lambda x: devolver_vector(x, tamaño_vec),y))\n",
    "    return np.array(y_proc)\n",
    "#fin funcion"
   ]
  },
  {
   "cell_type": "code",
   "execution_count": 6,
   "metadata": {},
   "outputs": [
    {
     "name": "stdout",
     "output_type": "stream",
     "text": [
      "[[0. 0. 0. 1. 0.]\n",
      " [0. 0. 0. 0. 1.]\n",
      " [0. 0. 0. 1. 0.]\n",
      " ...\n",
      " [0. 0. 1. 0. 0.]\n",
      " [0. 0. 1. 0. 0.]\n",
      " [1. 0. 0. 0. 0.]]\n"
     ]
    }
   ],
   "source": [
    "y_pro_train = prcesar_datos_en_y(y_train)\n",
    "y_pro_val = prcesar_datos_en_y(y_val)\n",
    "y_pro_test = prcesar_datos_en_y(y_test)\n",
    "N_generos = max(y_train)\n",
    "print(y_pro_train)"
   ]
  },
  {
   "cell_type": "code",
   "execution_count": 7,
   "metadata": {},
   "outputs": [
    {
     "ename": "",
     "evalue": "",
     "output_type": "error",
     "traceback": [
      "\u001b[1;31mThe Kernel crashed while executing code in the the current cell or a previous cell. Please review the code in the cell(s) to identify a possible cause of the failure. Click <a href='https://aka.ms/vscodeJupyterKernelCrash'>here</a> for more info. View Jupyter <a href='command:jupyter.viewOutput'>log</a> for further details."
     ]
    }
   ],
   "source": [
    "el_modelo = keras.models.Sequential()\n",
    "el_modelo.add(keras.layers.Dense(int(len(features)/2), activation = 'relu', input_shape=(len(features))))\n",
    "el_modelo.add(keras.layers.Dense(N_generos, activation = 'softmax'))\n",
    "el_modelo.compile(optimizer = 'adam', loss = 'categorical_crossentropy', metrics = 'accuracy')\n",
    "el_modelo.summary()"
   ]
  }
 ],
 "metadata": {
  "kernelspec": {
   "display_name": "Python 3",
   "language": "python",
   "name": "python3"
  },
  "language_info": {
   "codemirror_mode": {
    "name": "ipython",
    "version": 3
   },
   "file_extension": ".py",
   "mimetype": "text/x-python",
   "name": "python",
   "nbconvert_exporter": "python",
   "pygments_lexer": "ipython3",
   "version": "3.11.5"
  }
 },
 "nbformat": 4,
 "nbformat_minor": 2
}
